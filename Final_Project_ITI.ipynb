{
  "nbformat": 4,
  "nbformat_minor": 0,
  "metadata": {
    "colab": {
      "provenance": [],
      "include_colab_link": true
    },
    "kernelspec": {
      "name": "python3",
      "display_name": "Python 3"
    },
    "language_info": {
      "name": "python"
    }
  },
  "cells": [
    {
      "cell_type": "markdown",
      "metadata": {
        "id": "view-in-github",
        "colab_type": "text"
      },
      "source": [
        "<a href=\"https://colab.research.google.com/github/rana6-12/Final-Project-ITI/blob/main/Final_Project_ITI.ipynb\" target=\"_parent\"><img src=\"https://colab.research.google.com/assets/colab-badge.svg\" alt=\"Open In Colab\"/></a>"
      ]
    },
    {
      "cell_type": "markdown",
      "source": [
        "**ٌRana Yasser Anter**"
      ],
      "metadata": {
        "id": "8XGKAlpRDmdR"
      }
    },
    {
      "cell_type": "markdown",
      "source": [
        "**Upload Data Set**"
      ],
      "metadata": {
        "id": "dbCbqi8W_oMA"
      }
    },
    {
      "cell_type": "code",
      "metadata": {
        "colab": {
          "base_uri": "https://localhost:8080/",
          "height": 304
        },
        "id": "47d87aba",
        "outputId": "e3196f6a-0695-4420-ef55-637a648dc6da"
      },
      "source": [
        "from google.colab import drive\n",
        "drive.mount('/content/drive')"
      ],
      "execution_count": 2,
      "outputs": [
        {
          "output_type": "error",
          "ename": "MessageError",
          "evalue": "Error: credential propagation was unsuccessful",
          "traceback": [
            "\u001b[0;31m---------------------------------------------------------------------------\u001b[0m",
            "\u001b[0;31mMessageError\u001b[0m                              Traceback (most recent call last)",
            "\u001b[0;32m/tmp/ipython-input-1408506528.py\u001b[0m in \u001b[0;36m<cell line: 0>\u001b[0;34m()\u001b[0m\n\u001b[1;32m      1\u001b[0m \u001b[0;32mfrom\u001b[0m \u001b[0mgoogle\u001b[0m\u001b[0;34m.\u001b[0m\u001b[0mcolab\u001b[0m \u001b[0;32mimport\u001b[0m \u001b[0mdrive\u001b[0m\u001b[0;34m\u001b[0m\u001b[0;34m\u001b[0m\u001b[0m\n\u001b[0;32m----> 2\u001b[0;31m \u001b[0mdrive\u001b[0m\u001b[0;34m.\u001b[0m\u001b[0mmount\u001b[0m\u001b[0;34m(\u001b[0m\u001b[0;34m'/content/drive'\u001b[0m\u001b[0;34m)\u001b[0m\u001b[0;34m\u001b[0m\u001b[0;34m\u001b[0m\u001b[0m\n\u001b[0m",
            "\u001b[0;32m/usr/local/lib/python3.12/dist-packages/google/colab/drive.py\u001b[0m in \u001b[0;36mmount\u001b[0;34m(mountpoint, force_remount, timeout_ms, readonly)\u001b[0m\n\u001b[1;32m     95\u001b[0m \u001b[0;32mdef\u001b[0m \u001b[0mmount\u001b[0m\u001b[0;34m(\u001b[0m\u001b[0mmountpoint\u001b[0m\u001b[0;34m,\u001b[0m \u001b[0mforce_remount\u001b[0m\u001b[0;34m=\u001b[0m\u001b[0;32mFalse\u001b[0m\u001b[0;34m,\u001b[0m \u001b[0mtimeout_ms\u001b[0m\u001b[0;34m=\u001b[0m\u001b[0;36m120000\u001b[0m\u001b[0;34m,\u001b[0m \u001b[0mreadonly\u001b[0m\u001b[0;34m=\u001b[0m\u001b[0;32mFalse\u001b[0m\u001b[0;34m)\u001b[0m\u001b[0;34m:\u001b[0m\u001b[0;34m\u001b[0m\u001b[0;34m\u001b[0m\u001b[0m\n\u001b[1;32m     96\u001b[0m   \u001b[0;34m\"\"\"Mount your Google Drive at the specified mountpoint path.\"\"\"\u001b[0m\u001b[0;34m\u001b[0m\u001b[0;34m\u001b[0m\u001b[0m\n\u001b[0;32m---> 97\u001b[0;31m   return _mount(\n\u001b[0m\u001b[1;32m     98\u001b[0m       \u001b[0mmountpoint\u001b[0m\u001b[0;34m,\u001b[0m\u001b[0;34m\u001b[0m\u001b[0;34m\u001b[0m\u001b[0m\n\u001b[1;32m     99\u001b[0m       \u001b[0mforce_remount\u001b[0m\u001b[0;34m=\u001b[0m\u001b[0mforce_remount\u001b[0m\u001b[0;34m,\u001b[0m\u001b[0;34m\u001b[0m\u001b[0;34m\u001b[0m\u001b[0m\n",
            "\u001b[0;32m/usr/local/lib/python3.12/dist-packages/google/colab/drive.py\u001b[0m in \u001b[0;36m_mount\u001b[0;34m(mountpoint, force_remount, timeout_ms, ephemeral, readonly)\u001b[0m\n\u001b[1;32m    132\u001b[0m   )\n\u001b[1;32m    133\u001b[0m   \u001b[0;32mif\u001b[0m \u001b[0mephemeral\u001b[0m\u001b[0;34m:\u001b[0m\u001b[0;34m\u001b[0m\u001b[0;34m\u001b[0m\u001b[0m\n\u001b[0;32m--> 134\u001b[0;31m     _message.blocking_request(\n\u001b[0m\u001b[1;32m    135\u001b[0m         \u001b[0;34m'request_auth'\u001b[0m\u001b[0;34m,\u001b[0m\u001b[0;34m\u001b[0m\u001b[0;34m\u001b[0m\u001b[0m\n\u001b[1;32m    136\u001b[0m         \u001b[0mrequest\u001b[0m\u001b[0;34m=\u001b[0m\u001b[0;34m{\u001b[0m\u001b[0;34m'authType'\u001b[0m\u001b[0;34m:\u001b[0m \u001b[0;34m'dfs_ephemeral'\u001b[0m\u001b[0;34m}\u001b[0m\u001b[0;34m,\u001b[0m\u001b[0;34m\u001b[0m\u001b[0;34m\u001b[0m\u001b[0m\n",
            "\u001b[0;32m/usr/local/lib/python3.12/dist-packages/google/colab/_message.py\u001b[0m in \u001b[0;36mblocking_request\u001b[0;34m(request_type, request, timeout_sec, parent)\u001b[0m\n\u001b[1;32m    174\u001b[0m       \u001b[0mrequest_type\u001b[0m\u001b[0;34m,\u001b[0m \u001b[0mrequest\u001b[0m\u001b[0;34m,\u001b[0m \u001b[0mparent\u001b[0m\u001b[0;34m=\u001b[0m\u001b[0mparent\u001b[0m\u001b[0;34m,\u001b[0m \u001b[0mexpect_reply\u001b[0m\u001b[0;34m=\u001b[0m\u001b[0;32mTrue\u001b[0m\u001b[0;34m\u001b[0m\u001b[0;34m\u001b[0m\u001b[0m\n\u001b[1;32m    175\u001b[0m   )\n\u001b[0;32m--> 176\u001b[0;31m   \u001b[0;32mreturn\u001b[0m \u001b[0mread_reply_from_input\u001b[0m\u001b[0;34m(\u001b[0m\u001b[0mrequest_id\u001b[0m\u001b[0;34m,\u001b[0m \u001b[0mtimeout_sec\u001b[0m\u001b[0;34m)\u001b[0m\u001b[0;34m\u001b[0m\u001b[0;34m\u001b[0m\u001b[0m\n\u001b[0m",
            "\u001b[0;32m/usr/local/lib/python3.12/dist-packages/google/colab/_message.py\u001b[0m in \u001b[0;36mread_reply_from_input\u001b[0;34m(message_id, timeout_sec)\u001b[0m\n\u001b[1;32m    101\u001b[0m     ):\n\u001b[1;32m    102\u001b[0m       \u001b[0;32mif\u001b[0m \u001b[0;34m'error'\u001b[0m \u001b[0;32min\u001b[0m \u001b[0mreply\u001b[0m\u001b[0;34m:\u001b[0m\u001b[0;34m\u001b[0m\u001b[0;34m\u001b[0m\u001b[0m\n\u001b[0;32m--> 103\u001b[0;31m         \u001b[0;32mraise\u001b[0m \u001b[0mMessageError\u001b[0m\u001b[0;34m(\u001b[0m\u001b[0mreply\u001b[0m\u001b[0;34m[\u001b[0m\u001b[0;34m'error'\u001b[0m\u001b[0;34m]\u001b[0m\u001b[0;34m)\u001b[0m\u001b[0;34m\u001b[0m\u001b[0;34m\u001b[0m\u001b[0m\n\u001b[0m\u001b[1;32m    104\u001b[0m       \u001b[0;32mreturn\u001b[0m \u001b[0mreply\u001b[0m\u001b[0;34m.\u001b[0m\u001b[0mget\u001b[0m\u001b[0;34m(\u001b[0m\u001b[0;34m'data'\u001b[0m\u001b[0;34m,\u001b[0m \u001b[0;32mNone\u001b[0m\u001b[0;34m)\u001b[0m\u001b[0;34m\u001b[0m\u001b[0;34m\u001b[0m\u001b[0m\n\u001b[1;32m    105\u001b[0m \u001b[0;34m\u001b[0m\u001b[0m\n",
            "\u001b[0;31mMessageError\u001b[0m: Error: credential propagation was unsuccessful"
          ]
        }
      ]
    },
    {
      "cell_type": "code",
      "metadata": {
        "id": "7ccb1266"
      },
      "source": [
        "import pandas as pd\n",
        "\n",
        "# Replace with the actual path to your file in Google Drive\n",
        "file_path = '/content/drive/MyDrive/IMDB Dataset.csv'\n",
        "\n",
        "try:\n",
        "  df = pd.read_csv(file_path)\n",
        "  display(df.head())\n",
        "except FileNotFoundError:\n",
        "  print(f\"Error: The file '{file_path}' was not found. Please check the path and try again.\")\n",
        "except Exception as e:\n",
        "  print(f\"An error occurred: {e}\")"
      ],
      "execution_count": null,
      "outputs": []
    },
    {
      "cell_type": "code",
      "source": [
        "import pandas as pd\n",
        "import matplotlib.pyplot as plt\n",
        "import seaborn as sns"
      ],
      "metadata": {
        "id": "fm-PZH7c_5Ul"
      },
      "execution_count": null,
      "outputs": []
    },
    {
      "cell_type": "code",
      "source": [
        "df.shape"
      ],
      "metadata": {
        "id": "EYQu0QtSAJJj"
      },
      "execution_count": null,
      "outputs": []
    },
    {
      "cell_type": "code",
      "source": [
        "df.head(5)"
      ],
      "metadata": {
        "id": "TtmKhNnoANPO"
      },
      "execution_count": null,
      "outputs": []
    },
    {
      "cell_type": "markdown",
      "source": [
        "**# Check columns, types, missing**"
      ],
      "metadata": {
        "id": "Cz14Ps_DAEIy"
      }
    },
    {
      "cell_type": "code",
      "source": [
        "print(df.columns)\n",
        "print(df.dtypes)\n",
        "print(df.isna().sum())"
      ],
      "metadata": {
        "id": "xAH3_SzPASCk"
      },
      "execution_count": null,
      "outputs": []
    },
    {
      "cell_type": "markdown",
      "source": [
        "**# Class balance**"
      ],
      "metadata": {
        "id": "auSyoAGrAWe4"
      }
    },
    {
      "cell_type": "code",
      "source": [
        "print(df['sentiment'].value_counts())\n",
        "sns.countplot(x='sentiment', data=df)\n",
        "plt.title(\"Class distribution\")\n",
        "plt.show()"
      ],
      "metadata": {
        "id": "yR6Djz5tAZc9"
      },
      "execution_count": null,
      "outputs": []
    },
    {
      "cell_type": "markdown",
      "source": [
        "**# Length features**"
      ],
      "metadata": {
        "id": "uWskTwHRAe-a"
      }
    },
    {
      "cell_type": "code",
      "source": [
        "df['n_chars'] = df['review'].astype(str).str.len()\n",
        "df['n_tokens'] = df['review'].astype(str).str.split().str.len()\n",
        "print(df[['n_chars','n_tokens']].describe())"
      ],
      "metadata": {
        "id": "yiwtt1PAAhH4"
      },
      "execution_count": null,
      "outputs": []
    },
    {
      "cell_type": "code",
      "source": [
        "plt.figure(figsize=(10,4))\n",
        "sns.histplot(df['n_tokens'], bins=100, kde=True)\n",
        "plt.title(\"Distribution of review token counts\")\n",
        "plt.show()"
      ],
      "metadata": {
        "id": "8T4H-hsIAl5W"
      },
      "execution_count": null,
      "outputs": []
    },
    {
      "cell_type": "markdown",
      "source": [
        "**Preprocessing :generic **"
      ],
      "metadata": {
        "id": "jV6aK941BSH_"
      }
    },
    {
      "cell_type": "code",
      "source": [
        "import re, string\n",
        "import nltk\n",
        "from nltk.corpus import stopwords\n",
        "from nltk.stem import WordNetLemmatizer"
      ],
      "metadata": {
        "id": "fOblXVtGA3Yg"
      },
      "execution_count": null,
      "outputs": []
    },
    {
      "cell_type": "markdown",
      "source": [
        "**\n",
        "# Download NLTK data once**"
      ],
      "metadata": {
        "id": "zXzw2M_UBEN0"
      }
    },
    {
      "cell_type": "code",
      "source": [
        "nltk.download('stopwords')\n",
        "nltk.download('wordnet')\n",
        "\n",
        "STOPWORDS = set(stopwords.words('english'))\n",
        "LEMMATIZER = WordNetLemmatizer()\n",
        "\n",
        "URL_RE = re.compile(r'https?://\\S+|www\\.\\S+')\n",
        "HTML_RE = re.compile(r'<.*?>')"
      ],
      "metadata": {
        "id": "NyxDeh4DBGRn"
      },
      "execution_count": null,
      "outputs": []
    },
    {
      "cell_type": "code",
      "source": [
        "def generic_preprocess(text):\n",
        "    # 1. lowercase\n",
        "    t = str(text).lower()\n",
        "    # 2. remove urls & html tags\n",
        "    t = URL_RE.sub(' ', t)\n",
        "    t = HTML_RE.sub(' ', t)\n",
        "    # 3. remove punctuation\n",
        "    t = t.translate(str.maketrans('', '', string.punctuation))\n",
        "    # 4. keep letters only (optional) -> here we allow spaces and letters\n",
        "    t = re.sub(r'[^a-z\\s]', ' ', t)\n",
        "    # 5. collapse spaces\n",
        "    t = re.sub(r'\\s+', ' ', t).strip()\n",
        "    # 6. tokenize + remove stopwords + lemmatize\n",
        "    tokens = [w for w in t.split() if w not in STOPWORDS]\n",
        "    tokens = [LEMMATIZER.lemmatize(w) for w in tokens]\n",
        "    return \" \".join(tokens)\n",
        "\n",
        "# Test\n",
        "print(generic_preprocess(df['review'].iloc[0]))"
      ],
      "metadata": {
        "id": "NJRuxp_7BqFv"
      },
      "execution_count": null,
      "outputs": []
    },
    {
      "cell_type": "markdown",
      "source": [
        "**Preprocessing**"
      ],
      "metadata": {
        "id": "gg7uAVZDByGt"
      }
    },
    {
      "cell_type": "code",
      "source": [
        "import unicodedata\n",
        "\n",
        "\n"
      ],
      "metadata": {
        "id": "R4xyJ-v0B1Gl"
      },
      "execution_count": null,
      "outputs": []
    },
    {
      "cell_type": "markdown",
      "source": [
        "# normalize and remove non-letter characters (keeps spaces)"
      ],
      "metadata": {
        "id": "RzwAtFFOB8a9"
      }
    },
    {
      "cell_type": "code",
      "source": [
        "def strip_non_letters(text):\n",
        "\n",
        "    norm = unicodedata.normalize('NFKD', str(text))\n",
        "    return re.sub(r'[^a-zA-Z\\s]', ' ', norm)"
      ],
      "metadata": {
        "id": "7S_tr6vWB_0T"
      },
      "execution_count": null,
      "outputs": []
    },
    {
      "cell_type": "markdown",
      "source": [
        " # remove emojis / special by keeping only letters and spaces"
      ],
      "metadata": {
        "id": "Yu_VEm8-CIck"
      }
    },
    {
      "cell_type": "code",
      "source": [
        "def imdb_preprocess(text):\n",
        "    t = str(text).lower()\n",
        "    t = URL_RE.sub(' ', t)\n",
        "    t = HTML_RE.sub(' ', t)\n",
        "    t = strip_non_letters(t)\n",
        "    t = re.sub(r'\\s+', ' ', t).strip()\n",
        "    tokens = [w for w in t.split() if w not in STOPWORDS]\n",
        "    tokens = [LEMMATIZER.lemmatize(w) for w in tokens]\n",
        "    return \" \".join(tokens)"
      ],
      "metadata": {
        "id": "6TtjPoP-CJ9m"
      },
      "execution_count": null,
      "outputs": []
    },
    {
      "cell_type": "markdown",
      "source": [
        "# Apply both pipelines and store columns"
      ],
      "metadata": {
        "id": "qFvM7z_ZCSF6"
      }
    },
    {
      "cell_type": "code",
      "source": [
        "df['clean_generic'] = df['review'].apply(generic_preprocess)\n",
        "df['clean_imdb'] = df['review'].apply(imdb_preprocess)"
      ],
      "metadata": {
        "id": "yXSfsY98CTyC"
      },
      "execution_count": null,
      "outputs": []
    },
    {
      "cell_type": "markdown",
      "source": [
        "# map sentiments to numbers"
      ],
      "metadata": {
        "id": "hXVqCUr1C32n"
      }
    },
    {
      "cell_type": "code",
      "source": [
        "df['label'] = df['sentiment'].map({'positive':1,'negative':0})"
      ],
      "metadata": {
        "id": "wFdF3ISbC4sn"
      },
      "execution_count": null,
      "outputs": []
    },
    {
      "cell_type": "markdown",
      "source": [
        "# show examples"
      ],
      "metadata": {
        "id": "_AWNVz9GC8K2"
      }
    },
    {
      "cell_type": "code",
      "source": [
        "df[['review','clean_generic','clean_imdb','label']].head(6)"
      ],
      "metadata": {
        "id": "VsJHl06VC-xD"
      },
      "execution_count": null,
      "outputs": []
    },
    {
      "cell_type": "code",
      "source": [
        "print(\"youssef tarek abdelmonem\")\n"
      ],
      "metadata": {
        "id": "klKTW05_Juz4",
        "outputId": "c72a098b-cfe5-4377-a8ca-d1b069d9cbba",
        "colab": {
          "base_uri": "https://localhost:8080/"
        }
      },
      "execution_count": 1,
      "outputs": [
        {
          "output_type": "stream",
          "name": "stdout",
          "text": [
            "youssef tarek abdelmonem\n"
          ]
        }
      ]
    },
    {
      "cell_type": "markdown",
      "source": [
        "\n",
        "\n",
        "> Add blockquote\n",
        "\n"
      ],
      "metadata": {
        "id": "qGK2ZKh1KOqe"
      }
    },
    {
      "cell_type": "markdown",
      "source": [],
      "metadata": {
        "id": "6jCpjOOBKQWN"
      }
    },
    {
      "cell_type": "markdown",
      "source": [
        "youssef tarek abdelmonem\n",
        "# compare length distributions before and after\n"
      ],
      "metadata": {
        "id": "pJEExq6hKS42"
      }
    },
    {
      "cell_type": "code",
      "source": [
        "orig_tokens = df['review'].astype(str).str.split().str.len()\n",
        "gen_tokens = df['clean_generic'].astype(str).str.split().str.len()\n",
        "imdb_tokens = df['clean_imdb'].astype(str).str.split().str.len()"
      ],
      "metadata": {
        "id": "nuP9ZYUMKA7t"
      },
      "execution_count": null,
      "outputs": []
    },
    {
      "cell_type": "code",
      "source": [
        "plt.figure(figsize=(10,5))\n",
        "sns.histplot(orig_tokens, bins=80, label='original', alpha=0.5)\n",
        "sns.histplot(gen_tokens, bins=80, label='clean_generic', alpha=0.5)\n",
        "sns.histplot(imdb_tokens, bins=80, label='clean_imdb', alpha=0.5)\n",
        "plt.legend()\n",
        "plt.title(\"Token length: before vs generic vs imdb-clean\")\n",
        "plt.show()\n"
      ],
      "metadata": {
        "id": "l9Px2v-gKbTt"
      },
      "execution_count": null,
      "outputs": []
    },
    {
      "cell_type": "code",
      "source": [
        "from wordcloud import WordCloud\n",
        "\n",
        "pos_text = \" \".join(df[df['label']==1]['clean_imdb'].values)\n",
        "neg_text = \" \".join(df[df['label']==0]['clean_imdb'].values)\n"
      ],
      "metadata": {
        "id": "l7SCHIuNKjGT"
      },
      "execution_count": null,
      "outputs": []
    },
    {
      "cell_type": "code",
      "source": [
        "wc_pos = WordCloud(width=800,height=400,background_color='white').generate(pos_text)\n",
        "wc_neg = WordCloud(width=800,height=400,background_color='white').generate(neg_text)\n",
        "\n",
        "plt.figure(figsize=(12,5))\n",
        "plt.imshow(wc_pos); plt.axis('off'); plt.title(\"Positive Reviews Words\")\n",
        "plt.show()\n",
        "\n",
        "plt.figure(figsize=(12,5))\n",
        "plt.imshow(wc_neg); plt.axis('off'); plt.title(\"Negative Reviews Words\")\n",
        "plt.show()\n"
      ],
      "metadata": {
        "id": "R1qWriaVKnKn"
      },
      "execution_count": null,
      "outputs": []
    }
  ]
}