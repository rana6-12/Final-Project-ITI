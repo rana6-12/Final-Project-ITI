{
  "nbformat": 4,
  "nbformat_minor": 0,
  "metadata": {
    "colab": {
      "provenance": [],
      "include_colab_link": true
    },
    "kernelspec": {
      "name": "python3",
      "display_name": "Python 3"
    },
    "language_info": {
      "name": "python"
    }
  },
  "cells": [
    {
      "cell_type": "markdown",
      "metadata": {
        "id": "view-in-github",
        "colab_type": "text"
      },
      "source": [
        "<a href=\"https://colab.research.google.com/github/rana6-12/Final-Project-ITI/blob/main/Final_Project_ITI.ipynb\" target=\"_parent\"><img src=\"https://colab.research.google.com/assets/colab-badge.svg\" alt=\"Open In Colab\"/></a>"
      ]
    },
    {
      "cell_type": "markdown",
      "source": [
        "**ٌRana Yasser Anter**"
      ],
      "metadata": {
        "id": "8XGKAlpRDmdR"
      }
    },
    {
      "cell_type": "markdown",
      "source": [
        "**Upload Data Set**"
      ],
      "metadata": {
        "id": "dbCbqi8W_oMA"
      }
    },
    {
      "cell_type": "code",
      "metadata": {
        "colab": {
          "base_uri": "https://localhost:8080/"
        },
        "id": "47d87aba",
        "outputId": "6ef97269-9b68-474d-8e86-b46431956848"
      },
      "source": [
        "from google.colab import drive\n",
        "drive.mount('/content/drive')"
      ],
      "execution_count": 2,
      "outputs": [
        {
          "output_type": "stream",
          "name": "stdout",
          "text": [
            "Mounted at /content/drive\n"
          ]
        }
      ]
    },
    {
      "cell_type": "code",
      "metadata": {
        "colab": {
          "base_uri": "https://localhost:8080/"
        },
        "id": "7ccb1266",
        "outputId": "b399ae89-ff4d-4fa7-b8e6-444b8adbc735"
      },
      "source": [
        "import pandas as pd\n",
        "\n",
        "# Replace with the actual path to your file in Google Drive\n",
        "file_path = '/content/drive/MyDrive/IMDB Dataset.csv'\n",
        "\n",
        "try:\n",
        "  df = pd.read_csv(file_path)\n",
        "  display(df.head())\n",
        "except FileNotFoundError:\n",
        "  print(f\"Error: The file '{file_path}' was not found. Please check the path and try again.\")\n",
        "except Exception as e:\n",
        "  print(f\"An error occurred: {e}\")"
      ],
      "execution_count": 3,
      "outputs": [
        {
          "output_type": "stream",
          "name": "stdout",
          "text": [
            "Error: The file '/content/drive/MyDrive/IMDB Dataset.csv' was not found. Please check the path and try again.\n"
          ]
        }
      ]
    },
    {
      "cell_type": "code",
      "source": [
        "import pandas as pd\n",
        "import matplotlib.pyplot as plt\n",
        "import seaborn as sns"
      ],
      "metadata": {
        "id": "fm-PZH7c_5Ul"
      },
      "execution_count": 4,
      "outputs": []
    },
    {
      "cell_type": "code",
      "source": [
        "df.shape"
      ],
      "metadata": {
        "colab": {
          "base_uri": "https://localhost:8080/",
          "height": 141
        },
        "id": "EYQu0QtSAJJj",
        "outputId": "518031ed-ea69-4819-eed2-e6adcadbaf41"
      },
      "execution_count": 5,
      "outputs": [
        {
          "output_type": "error",
          "ename": "NameError",
          "evalue": "name 'df' is not defined",
          "traceback": [
            "\u001b[0;31m---------------------------------------------------------------------------\u001b[0m",
            "\u001b[0;31mNameError\u001b[0m                                 Traceback (most recent call last)",
            "\u001b[0;32m/tmp/ipython-input-857714779.py\u001b[0m in \u001b[0;36m<cell line: 0>\u001b[0;34m()\u001b[0m\n\u001b[0;32m----> 1\u001b[0;31m \u001b[0mdf\u001b[0m\u001b[0;34m.\u001b[0m\u001b[0mshape\u001b[0m\u001b[0;34m\u001b[0m\u001b[0;34m\u001b[0m\u001b[0m\n\u001b[0m",
            "\u001b[0;31mNameError\u001b[0m: name 'df' is not defined"
          ]
        }
      ]
    },
    {
      "cell_type": "code",
      "source": [
        "df.head(5)"
      ],
      "metadata": {
        "id": "TtmKhNnoANPO"
      },
      "execution_count": null,
      "outputs": []
    },
    {
      "cell_type": "markdown",
      "source": [
        "**# Check columns, types, missing**"
      ],
      "metadata": {
        "id": "Cz14Ps_DAEIy"
      }
    },
    {
      "cell_type": "code",
      "source": [
        "print(df.columns)\n",
        "print(df.dtypes)\n",
        "print(df.isna().sum())"
      ],
      "metadata": {
        "id": "xAH3_SzPASCk"
      },
      "execution_count": null,
      "outputs": []
    },
    {
      "cell_type": "markdown",
      "source": [
        "**# Class balance**"
      ],
      "metadata": {
        "id": "auSyoAGrAWe4"
      }
    },
    {
      "cell_type": "code",
      "source": [
        "print(df['sentiment'].value_counts())\n",
        "sns.countplot(x='sentiment', data=df)\n",
        "plt.title(\"Class distribution\")\n",
        "plt.show()"
      ],
      "metadata": {
        "id": "yR6Djz5tAZc9"
      },
      "execution_count": null,
      "outputs": []
    },
    {
      "cell_type": "markdown",
      "source": [
        "**# Length features**"
      ],
      "metadata": {
        "id": "uWskTwHRAe-a"
      }
    },
    {
      "cell_type": "code",
      "source": [
        "df['n_chars'] = df['review'].astype(str).str.len()\n",
        "df['n_tokens'] = df['review'].astype(str).str.split().str.len()\n",
        "print(df[['n_chars','n_tokens']].describe())"
      ],
      "metadata": {
        "id": "yiwtt1PAAhH4"
      },
      "execution_count": null,
      "outputs": []
    },
    {
      "cell_type": "code",
      "source": [
        "plt.figure(figsize=(10,4))\n",
        "sns.histplot(df['n_tokens'], bins=100, kde=True)\n",
        "plt.title(\"Distribution of review token counts\")\n",
        "plt.show()"
      ],
      "metadata": {
        "id": "8T4H-hsIAl5W"
      },
      "execution_count": null,
      "outputs": []
    },
    {
      "cell_type": "markdown",
      "source": [
        "**Preprocessing :generic **"
      ],
      "metadata": {
        "id": "jV6aK941BSH_"
      }
    },
    {
      "cell_type": "code",
      "source": [
        "import re, string\n",
        "import nltk\n",
        "from nltk.corpus import stopwords\n",
        "from nltk.stem import WordNetLemmatizer"
      ],
      "metadata": {
        "id": "fOblXVtGA3Yg"
      },
      "execution_count": null,
      "outputs": []
    },
    {
      "cell_type": "markdown",
      "source": [
        "**\n",
        "# Download NLTK data once**"
      ],
      "metadata": {
        "id": "zXzw2M_UBEN0"
      }
    },
    {
      "cell_type": "code",
      "source": [
        "nltk.download('stopwords')\n",
        "nltk.download('wordnet')\n",
        "\n",
        "STOPWORDS = set(stopwords.words('english'))\n",
        "LEMMATIZER = WordNetLemmatizer()\n",
        "\n",
        "URL_RE = re.compile(r'https?://\\S+|www\\.\\S+')\n",
        "HTML_RE = re.compile(r'<.*?>')"
      ],
      "metadata": {
        "id": "NyxDeh4DBGRn"
      },
      "execution_count": null,
      "outputs": []
    },
    {
      "cell_type": "code",
      "source": [
        "def generic_preprocess(text):\n",
        "    # 1. lowercase\n",
        "    t = str(text).lower()\n",
        "    # 2. remove urls & html tags\n",
        "    t = URL_RE.sub(' ', t)\n",
        "    t = HTML_RE.sub(' ', t)\n",
        "    # 3. remove punctuation\n",
        "    t = t.translate(str.maketrans('', '', string.punctuation))\n",
        "    # 4. keep letters only (optional) -> here we allow spaces and letters\n",
        "    t = re.sub(r'[^a-z\\s]', ' ', t)\n",
        "    # 5. collapse spaces\n",
        "    t = re.sub(r'\\s+', ' ', t).strip()\n",
        "    # 6. tokenize + remove stopwords + lemmatize\n",
        "    tokens = [w for w in t.split() if w not in STOPWORDS]\n",
        "    tokens = [LEMMATIZER.lemmatize(w) for w in tokens]\n",
        "    return \" \".join(tokens)\n",
        "\n",
        "# Test\n",
        "print(generic_preprocess(df['review'].iloc[0]))"
      ],
      "metadata": {
        "id": "NJRuxp_7BqFv"
      },
      "execution_count": null,
      "outputs": []
    },
    {
      "cell_type": "markdown",
      "source": [
        "**Preprocessing**"
      ],
      "metadata": {
        "id": "gg7uAVZDByGt"
      }
    },
    {
      "cell_type": "code",
      "source": [
        "import unicodedata\n"
      ],
      "metadata": {
        "id": "R4xyJ-v0B1Gl"
      },
      "execution_count": null,
      "outputs": []
    },
    {
      "cell_type": "markdown",
      "source": [
        "# normalize and remove non-letter characters (keeps spaces)"
      ],
      "metadata": {
        "id": "RzwAtFFOB8a9"
      }
    },
    {
      "cell_type": "code",
      "source": [
        "def strip_non_letters(text):\n",
        "\n",
        "    norm = unicodedata.normalize('NFKD', str(text))\n",
        "    return re.sub(r'[^a-zA-Z\\s]', ' ', norm)"
      ],
      "metadata": {
        "id": "7S_tr6vWB_0T"
      },
      "execution_count": null,
      "outputs": []
    },
    {
      "cell_type": "markdown",
      "source": [
        " # remove emojis / special by keeping only letters and spaces"
      ],
      "metadata": {
        "id": "Yu_VEm8-CIck"
      }
    },
    {
      "cell_type": "code",
      "source": [
        "def imdb_preprocess(text):\n",
        "    t = str(text).lower()\n",
        "    t = URL_RE.sub(' ', t)\n",
        "    t = HTML_RE.sub(' ', t)\n",
        "    t = strip_non_letters(t)\n",
        "    t = re.sub(r'\\s+', ' ', t).strip()\n",
        "    tokens = [w for w in t.split() if w not in STOPWORDS]\n",
        "    tokens = [LEMMATIZER.lemmatize(w) for w in tokens]\n",
        "    return \" \".join(tokens)"
      ],
      "metadata": {
        "id": "6TtjPoP-CJ9m"
      },
      "execution_count": null,
      "outputs": []
    },
    {
      "cell_type": "markdown",
      "source": [
        "# Apply both pipelines and store columns"
      ],
      "metadata": {
        "id": "qFvM7z_ZCSF6"
      }
    },
    {
      "cell_type": "code",
      "source": [
        "df['clean_generic'] = df['review'].apply(generic_preprocess)\n",
        "df['clean_imdb'] = df['review'].apply(imdb_preprocess)"
      ],
      "metadata": {
        "id": "yXSfsY98CTyC"
      },
      "execution_count": null,
      "outputs": []
    },
    {
      "cell_type": "markdown",
      "source": [
        "# map sentiments to numbers"
      ],
      "metadata": {
        "id": "hXVqCUr1C32n"
      }
    },
    {
      "cell_type": "code",
      "source": [
        "df['label'] = df['sentiment'].map({'positive':1,'negative':0})"
      ],
      "metadata": {
        "id": "wFdF3ISbC4sn"
      },
      "execution_count": null,
      "outputs": []
    },
    {
      "cell_type": "markdown",
      "source": [
        "# show examples"
      ],
      "metadata": {
        "id": "_AWNVz9GC8K2"
      }
    },
    {
      "cell_type": "code",
      "source": [
        "df[['review','clean_generic','clean_imdb','label']].head(6)"
      ],
      "metadata": {
        "id": "VsJHl06VC-xD"
      },
      "execution_count": null,
      "outputs": []
    },
    {
      "cell_type": "markdown",
      "source": [
        "youssef tarek abdelmonem"
      ],
      "metadata": {
        "id": "qoP8wnlBSLku"
      }
    },
    {
      "cell_type": "code",
      "source": [
        "orig_tokens = df['review'].astype(str).str.split().str.len()\n",
        "gen_tokens = df['clean_generic'].astype(str).str.split().str.len()\n",
        "imdb_tokens = df['clean_imdb'].astype(str).str.split().str.len()\n"
      ],
      "metadata": {
        "id": "7qee65MeSQtu"
      },
      "execution_count": null,
      "outputs": []
    },
    {
      "cell_type": "code",
      "source": [
        "plt.figure(figsize=(10,5))\n",
        "sns.histplot(orig_tokens, bins=80, label='original', alpha=0.5)\n",
        "sns.histplot(gen_tokens, bins=80, label='clean_generic', alpha=0.5)\n",
        "sns.histplot(imdb_tokens, bins=80, label='clean_imdb', alpha=0.5)\n",
        "plt.legend()\n",
        "plt.title(\"Token length: before vs generic vs imdb-clean\")\n",
        "plt.show()\n"
      ],
      "metadata": {
        "id": "Amb60ySqSakq"
      },
      "execution_count": null,
      "outputs": []
    },
    {
      "cell_type": "code",
      "source": [
        "from wordcloud import WordCloud\n",
        "pos_text = \" \".join(df[df['label']==1]['clean_imdb'].values)\n",
        "neg_text = \" \".join(df[df['label']==0]['clean_imdb'].values)\n"
      ],
      "metadata": {
        "id": "jsAPhVIjSmJk"
      },
      "execution_count": null,
      "outputs": []
    },
    {
      "cell_type": "code",
      "source": [
        "wc_pos = WordCloud(width=800,height=400,background_color='white').generate(pos_text)\n",
        "wc_neg = WordCloud(width=800,height=400,background_color='white').generate(neg_text)\n",
        "plt.figure(figsize=(12,5))\n",
        "plt.imshow(wc_pos); plt.axis('off'); plt.title(\"Positive Reviews Words\")\n",
        "plt.show()\n",
        "plt.figure(figsize=(12,5))\n",
        "plt.imshow(wc_neg); plt.axis('off'); plt.title(\"Negative Reviews Words\")\n",
        "plt.show()\n"
      ],
      "metadata": {
        "id": "hzc39gY8Sp9T"
      },
      "execution_count": null,
      "outputs": []
    },
    {
      "cell_type": "markdown",
      "source": [
        "*** Hazem Mohamed Mahmoud Hassan **"
      ],
      "metadata": {
        "id": "PxhrULUfWxuX"
      }
    },
    {
      "cell_type": "code",
      "source": [
        "# Import required libraries and prepare the dataset\n",
        "\n",
        "from sklearn.feature_extraction.text import TfidfVectorizer\n",
        "from sklearn.linear_model import LogisticRegression\n",
        "from sklearn.metrics import accuracy_score, classification_report, confusion_matrix"
      ],
      "metadata": {
        "id": "1FULf8n7W2Mx"
      },
      "execution_count": null,
      "outputs": []
    },
    {
      "cell_type": "code",
      "source": [
        "X = df['clean_imdb'].values\n",
        "y = df['label'].values"
      ],
      "metadata": {
        "id": "zr_AWFBgXVRr"
      },
      "execution_count": null,
      "outputs": []
    },
    {
      "cell_type": "code",
      "source": [
        "#  Split dataset into Train and Test sets\n",
        "\n",
        "from sklearn.model_selection import train_test_split\n",
        "\n",
        "X_train, X_test, y_train, y_test = train_test_split(\n",
        "    X,\n",
        "    y,\n",
        "    test_size=0.2,\n",
        "    random_state=42,\n",
        "    stratify=y\n",
        ")\n",
        "\n",
        "print(\"Train size:\", len(X_train))\n",
        "print(\"Test size:\", len(X_test))"
      ],
      "metadata": {
        "id": "RPzmZ6JQXYxE"
      },
      "execution_count": null,
      "outputs": []
    },
    {
      "cell_type": "code",
      "source": [
        "#  Vectorize text using TF-IDF\n",
        "\n",
        "\n",
        "tfidf = TfidfVectorizer(max_features=50000, ngram_range=(1,2))\n",
        "\n",
        "X_train_t = tfidf.fit_transform(X_train)\n",
        "X_test_t  = tfidf.transform(X_test)\n",
        "\n",
        "print(\"Train TF-IDF shape:\", X_train_t.shape)\n",
        "print(\"Test  TF-IDF shape:\", X_test_t.shape)"
      ],
      "metadata": {
        "id": "PZjmXQ_AXgBZ"
      },
      "execution_count": null,
      "outputs": []
    },
    {
      "cell_type": "code",
      "source": [
        "# Train Logistic Regression model\n",
        "\n",
        "\n",
        "logreg = LogisticRegression(max_iter=400)\n",
        "logreg.fit(X_train_t, y_train)\n",
        "\n",
        "print(\"Logistic Regression training done.\")"
      ],
      "metadata": {
        "id": "KslgyId1XnR-"
      },
      "execution_count": null,
      "outputs": []
    },
    {
      "cell_type": "code",
      "source": [
        "#  Evaluate the model performance\n",
        "\n",
        "pred = logreg.predict(X_test_t)\n",
        "\n",
        "print(\"Accuracy (TF-IDF + LR):\", accuracy_score(y_test, pred))\n",
        "print(classification_report(y_test, pred, target_names=['neg','pos']))"
      ],
      "metadata": {
        "id": "tgEt5lTyXrRZ"
      },
      "execution_count": null,
      "outputs": []
    },
    {
      "cell_type": "code",
      "source": [
        "# Confusion Matrix and Heatmap visualization\n",
        "\n",
        "import seaborn as sns\n",
        "import matplotlib.pyplot as plt\n",
        "\n",
        "cm = confusion_matrix(y_test, pred)\n",
        "\n",
        "plt.figure(figsize=(6,5))\n",
        "sns.heatmap(\n",
        "    cm,\n",
        "    annot=True,\n",
        "    fmt='d',\n",
        "    cmap='Blues',\n",
        "    xticklabels=['neg','pos'],\n",
        "    yticklabels=['neg','pos']\n",
        ")\n",
        "\n",
        "plt.xlabel('Predicted')\n",
        "plt.ylabel('True')\n",
        "plt.title('Confusion Matrix — TF-IDF + Logistic Regression')\n",
        "plt.show()\n"
      ],
      "metadata": {
        "id": "0iQGgDSyYILD"
      },
      "execution_count": null,
      "outputs": []
    },
    {
      "cell_type": "markdown",
      "source": [
        "**Yousef** **Mohamed** **Abdeltawab** **Mohamed**"
      ],
      "metadata": {
        "id": "cXvXuOew2aJG"
      }
    },
    {
      "cell_type": "code",
      "source": [
        "# Save the Vectorizer (TF-IDF) and Logistic Regression Model\n",
        "\n",
        "import joblib\n",
        "import os"
      ],
      "metadata": {
        "id": "PMDzgbiSsAAa"
      },
      "execution_count": null,
      "outputs": []
    },
    {
      "cell_type": "code",
      "source": [
        "os.makedirs(\"artifacts\", exist_ok=True)\n",
        "joblib.dump(tfidf, \"artifacts/tfidf.joblib\")\n",
        "joblib.dump(logreg, \"artifacts/logreg.joblib\")\n",
        "print(\" tfidf.joblib و logreg.joblib artifacts/\")"
      ],
      "metadata": {
        "id": "u4YlKLfQsOe5"
      },
      "execution_count": null,
      "outputs": []
    },
    {
      "cell_type": "code",
      "source": [
        "import tensorflow as tf\n",
        "from tensorflow.keras import layers, models, callbacks\n",
        "from sklearn.model_selection import train_test_split"
      ],
      "metadata": {
        "id": "8C_0jvCYsSP9"
      },
      "execution_count": null,
      "outputs": []
    },
    {
      "cell_type": "code",
      "source": [
        "# Hyperparameters\n",
        "VOCAB_SIZE = 20000\n",
        "SEQ_LEN    = 200    # Pad/Truncate each sentence to 200 tokens\n",
        "EMBED_DIM  = 100\n",
        "BATCH      = 128\n",
        "EPOCHS     = 5"
      ],
      "metadata": {
        "id": "qt8wi0IwsY-D"
      },
      "execution_count": null,
      "outputs": []
    },
    {
      "cell_type": "code",
      "source": [
        "# Data Preparation\n",
        "texts  = df[\"clean_imdb\"].astype(str).values\n",
        "labels = df[\"label\"].values"
      ],
      "metadata": {
        "id": "ws7UBI4IsZ3e"
      },
      "execution_count": null,
      "outputs": []
    },
    {
      "cell_type": "code",
      "source": [
        "# Train/Test Split\n",
        "X_tr, X_te, y_tr, y_te = train_test_split(\n",
        "    texts, labels,\n",
        "    test_size=0.2,\n",
        "    random_state=42,\n",
        "    stratify=labels\n",
        ")"
      ],
      "metadata": {
        "id": "DhxB5gPfsdRT"
      },
      "execution_count": null,
      "outputs": []
    },
    {
      "cell_type": "code",
      "source": [
        "# Text Vectorization Layer\n",
        "vectorize_layer = layers.TextVectorization(\n",
        "    max_tokens=VOCAB_SIZE,\n",
        "    output_mode=\"int\",\n",
        "    output_sequence_length=SEQ_LEN\n",
        ")"
      ],
      "metadata": {
        "id": "vrWcpEHlsh2N"
      },
      "execution_count": null,
      "outputs": []
    },
    {
      "cell_type": "code",
      "source": [
        "# Fit vectorizer on training data\n",
        "vectorize_layer.adapt(\n",
        "    tf.data.Dataset.from_tensor_slices(X_tr).batch(256)\n",
        ")"
      ],
      "metadata": {
        "id": "o9sTxpmksint"
      },
      "execution_count": null,
      "outputs": []
    },
    {
      "cell_type": "code",
      "source": [
        "# Dataset Pipeline\n",
        "def make_dataset(X, y, batch=BATCH, shuffle=True):\n",
        "    ds = tf.data.Dataset.from_tensor_slices((X, y))\n",
        "    if shuffle:\n",
        "        ds = ds.shuffle(10000, seed=42)\n",
        "    ds = ds.batch(batch).prefetch(tf.data.AUTOTUNE)\n",
        "    return ds"
      ],
      "metadata": {
        "id": "AVMMv0CEslM9"
      },
      "execution_count": null,
      "outputs": []
    },
    {
      "cell_type": "code",
      "source": [
        "# Train/Validation datasets\n",
        "train_ds = make_dataset(X_tr, y_tr)\n",
        "val_ds   = make_dataset(X_te, y_te, shuffle=False)"
      ],
      "metadata": {
        "id": "9tg2JE0kspq7"
      },
      "execution_count": null,
      "outputs": []
    },
    {
      "cell_type": "markdown",
      "source": [
        "# Ahmed RAbie"
      ],
      "metadata": {
        "id": "jHgucpzEzBPy"
      }
    },
    {
      "cell_type": "markdown",
      "source": [
        "# MODEL 1: Embedding -> Flatten -> Dense"
      ],
      "metadata": {
        "id": "0X-JMI_YzV-K"
      }
    },
    {
      "cell_type": "code",
      "source": [
        "model = models.Sequential([\n",
        "    layers.Embedding(VOCAB_SIZE, EMBED_DIM, input_length=SEQ_LEN),\n",
        "\n",
        "    layers.Flatten(),\n",
        "\n",
        "    layers.Dense(128, activation='relu'),\n",
        "\n",
        "    layers.Dropout(0.4),\n",
        "\n",
        "    layers.Dense(1, activation='sigmoid')\n",
        "])"
      ],
      "metadata": {
        "id": "rBqVzeBqzF25"
      },
      "execution_count": null,
      "outputs": []
    },
    {
      "cell_type": "markdown",
      "source": [
        "# Compile the model"
      ],
      "metadata": {
        "id": "N57wDf1uzlz6"
      }
    },
    {
      "cell_type": "code",
      "source": [
        "model.compile(optimizer='adam', loss='binary_crossentropy', metrics=['accuracy'])\n",
        "model.summary()"
      ],
      "metadata": {
        "id": "qLx8umIRzcge"
      },
      "execution_count": null,
      "outputs": []
    },
    {
      "cell_type": "markdown",
      "source": [
        "# callbacks"
      ],
      "metadata": {
        "id": "2J8mByhbzsIy"
      }
    },
    {
      "cell_type": "code",
      "source": [
        "cb = [\n",
        "    callbacks.EarlyStopping(monitor='val_loss', patience=2, restore_best_weights=True),\n",
        "\n",
        "    callbacks.ModelCheckpoint('artifacts/keras_imdb_best.h5', save_best_only=True)\n",
        "]\n"
      ],
      "metadata": {
        "id": "olJtomD5zomj"
      },
      "execution_count": null,
      "outputs": []
    },
    {
      "cell_type": "markdown",
      "source": [
        "# Train the model\n"
      ],
      "metadata": {
        "id": "yjGuq-w7zwY0"
      }
    },
    {
      "cell_type": "code",
      "source": [
        "history = model.fit(train_ds, validation_data=val_ds, epochs=EPOCHS, callbacks=cb)\n"
      ],
      "metadata": {
        "id": "9rLuLQ2Xzt7z"
      },
      "execution_count": null,
      "outputs": []
    },
    {
      "cell_type": "markdown",
      "source": [
        "# Lighter alternative (recommended for weaker devices)"
      ],
      "metadata": {
        "id": "MumRwZEyz1lS"
      }
    },
    {
      "cell_type": "code",
      "source": [
        "model2 = models.Sequential([\n",
        "    layers.Embedding(VOCAB_SIZE, EMBED_DIM, input_length=SEQ_LEN),\n",
        "    layers.GlobalAveragePooling1D(),\n",
        "    layers.Dense(64, activation='relu'),\n",
        "    layers.Dropout(0.3),\n",
        "    layers.Dense(1, activation='sigmoid')\n",
        "])\n"
      ],
      "metadata": {
        "id": "x301Ocr0zx66"
      },
      "execution_count": null,
      "outputs": []
    },
    {
      "cell_type": "markdown",
      "source": [
        "# **Youssef Magdy Ahmed**"
      ],
      "metadata": {
        "id": "01ML3dvC5I4l"
      }
    },
    {
      "cell_type": "markdown",
      "source": [
        "##Deep model evaluation + training\n"
      ],
      "metadata": {
        "id": "eK6Sr4Yp5vky"
      }
    },
    {
      "cell_type": "markdown",
      "source": [
        "**Evaluate**\n"
      ],
      "metadata": {
        "id": "IB46LzHR6A16"
      }
    },
    {
      "cell_type": "code",
      "source": [
        "loss, acc = model.evaluate(val_ds, verbose=0)\n",
        "print(\"Test accuracy (NN):\", acc)"
      ],
      "metadata": {
        "id": "NPvyBVlh6Qeg"
      },
      "execution_count": null,
      "outputs": []
    },
    {
      "cell_type": "markdown",
      "source": [
        "#Predictions (probabilities)\n"
      ],
      "metadata": {
        "id": "NDucZxpp6XsJ"
      }
    },
    {
      "cell_type": "code",
      "source": [
        "import numpy as np\n",
        "y_probs = model.predict(val_ds)\n",
        "y_pred = (y_probs.flatten() >= 0.5).astype(int)"
      ],
      "metadata": {
        "id": "Ow4YGNyX6cH4"
      },
      "execution_count": null,
      "outputs": []
    },
    {
      "cell_type": "markdown",
      "source": [
        "# True labels in same order\n"
      ],
      "metadata": {
        "id": "NmCu6_uM6exz"
      }
    },
    {
      "cell_type": "code",
      "source": [
        "y_true = np.concatenate([y for _,y in val_ds], axis=0)"
      ],
      "metadata": {
        "id": "thc8PYdv6k2R"
      },
      "execution_count": null,
      "outputs": []
    },
    {
      "cell_type": "code",
      "source": [
        "from sklearn.metrics import classification_report, confusion_matrix, roc_auc_score\n",
        "print(classification_report(y_true, y_pred, target_names=['neg','pos']))\n",
        "print(\"ROC AUC:\", roc_auc_score(y_true, y_probs))"
      ],
      "metadata": {
        "id": "99p_yuYy6qz-"
      },
      "execution_count": null,
      "outputs": []
    },
    {
      "cell_type": "markdown",
      "source": [
        "# Confusion matrix plot"
      ],
      "metadata": {
        "id": "9s5MgAbL6t9j"
      }
    },
    {
      "cell_type": "code",
      "source": [
        "cm = confusion_matrix(y_true, y_pred)\n",
        "sns.heatmap(cm, annot=True, fmt='d', cmap='Blues', xticklabels=['neg','pos'], yticklabels=['neg','pos'])\n",
        "plt.xlabel('Predicted'); plt.ylabel('True'); plt.title('Confusion Matrix — NN')\n",
        "plt.show()"
      ],
      "metadata": {
        "id": "7dIwIV256x8f"
      },
      "execution_count": null,
      "outputs": []
    },
    {
      "cell_type": "markdown",
      "source": [
        "# plot history\n"
      ],
      "metadata": {
        "id": "vccFEk236z54"
      }
    },
    {
      "cell_type": "code",
      "source": [
        "plt.figure(figsize=(12,4))\n",
        "plt.subplot(1,2,1)\n",
        "plt.plot(history.history['loss'], label='train_loss'); plt.plot(history.history['val_loss'], label='val_loss')\n",
        "plt.legend(); plt.title('Loss')"
      ],
      "metadata": {
        "id": "iDBGOrP263Kx"
      },
      "execution_count": null,
      "outputs": []
    },
    {
      "cell_type": "code",
      "source": [
        "plt.subplot(1,2,2)\n",
        "plt.plot(history.history['accuracy'], label='train_acc'); plt.plot(history.history['val_accuracy'], label='val_acc')\n",
        "plt.legend(); plt.title('Accuracy')\n",
        "plt.show()"
      ],
      "metadata": {
        "id": "MesW7wl24_ZI"
      },
      "execution_count": null,
      "outputs": []
    }
  ]
}